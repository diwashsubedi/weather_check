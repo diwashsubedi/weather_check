{
 "cells": [
  {
   "cell_type": "code",
   "execution_count": 1,
   "metadata": {},
   "outputs": [],
   "source": [
    "import requests"
   ]
  },
  {
   "cell_type": "code",
   "execution_count": 2,
   "metadata": {},
   "outputs": [],
   "source": [
    "import json"
   ]
  },
  {
   "cell_type": "code",
   "execution_count": 3,
   "metadata": {},
   "outputs": [],
   "source": [
    "api_key = \"15eb5c7b380ecbdb70358a789ae10beb\""
   ]
  },
  {
   "cell_type": "code",
   "execution_count": 4,
   "metadata": {},
   "outputs": [],
   "source": [
    "base_url = \"http://api.openweathermap.org/data/2.5/weather?\""
   ]
  },
  {
   "cell_type": "code",
   "execution_count": 6,
   "metadata": {},
   "outputs": [
    {
     "name": "stdout",
     "output_type": "stream",
     "text": [
      "Enter city name : Bharatpur\n",
      "Temperature (in kelvin unit) = 306.285\n",
      " atmospheric pressure (in hPa unit) = 997.36\n",
      " humidity (in percentage) = 52\n",
      " description = overcast clouds\n"
     ]
    }
   ],
   "source": [
    "city_name = input(\"Enter city name : \") \n",
    "complete_url = base_url + \"appid=\" + api_key + \"&q=\" +city_name\n",
    "response = requests.get(complete_url)\n",
    "x = response.json()\n",
    "if x[\"cod\"] != \"404\":\n",
    "    y = x[\"main\"]\n",
    "    current_temperature = y[\"temp\"]\n",
    "    current_pressure = y[\"pressure\"]\n",
    "    current_humidiy = y[\"humidity\"]\n",
    "    z = x[\"weather\"]\n",
    "    weather_description = z[0][\"description\"]\n",
    "    print(\"Temperature (in kelvin unit) = \" + str(current_temperature)+ \"\\n atmospheric pressure (in hPa unit) = \" +\n",
    "                    str(current_pressure) +\n",
    "          \"\\n humidity (in percentage) = \" +\n",
    "                    str(current_humidiy) +\n",
    "          \"\\n description = \" +\n",
    "                    str(weather_description)) \n",
    "else:\n",
    "    print(\"City Not Found\")"
   ]
  },
  {
   "cell_type": "code",
   "execution_count": null,
   "metadata": {},
   "outputs": [],
   "source": []
  }
 ],
 "metadata": {
  "kernelspec": {
   "display_name": "Python 3",
   "language": "python",
   "name": "python3"
  },
  "language_info": {
   "codemirror_mode": {
    "name": "ipython",
    "version": 3
   },
   "file_extension": ".py",
   "mimetype": "text/x-python",
   "name": "python",
   "nbconvert_exporter": "python",
   "pygments_lexer": "ipython3",
   "version": "3.6.5"
  }
 },
 "nbformat": 4,
 "nbformat_minor": 2
}
